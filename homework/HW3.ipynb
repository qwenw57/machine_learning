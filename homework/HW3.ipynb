{
 "cells": [
  {
   "cell_type": "markdown",
   "id": "enhanced-minority",
   "metadata": {},
   "source": [
    "## Homework 3 Trees"
   ]
  },
  {
   "cell_type": "markdown",
   "id": "italian-cocktail",
   "metadata": {},
   "source": [
    "#### Qingwen Wang"
   ]
  },
  {
   "cell_type": "markdown",
   "id": "recreational-colleague",
   "metadata": {},
   "source": [
    "In the folder with Monday's notebook is a file called classify_me.csv. The column 'Target' gives the class labels.\n",
    "\n",
    "1. Read in this file. How many classes are there? How many features are there? Are there any missing entries?\n",
    "\n",
    "2. Split into training and test sets (30% test set). Use random_state=5 so your splits are reproducible.\n",
    "\n",
    "3. Use all the features to build a classifier on the training set. Try bagging, random forest, boosting, and k-nearest neighbors. For knn, cross validate the number of neighbors you use. In your random forest implementation, build the trees deep -- that is, do not set a value for max_depth. For bagging and random forest,  cross validate the number of trees you use (given by the n_estimators parameter). For your boosting model, validate all of the parameters: n_estimators, learning_rate, and max_depth. In all three models, set random_state=5 so the results are reproducible. \n",
    "\n",
    "4. Comment on which model gives the best results on the test set.  For the best model, comment on feature importances (if relevant)."
   ]
  },
  {
   "cell_type": "code",
   "execution_count": 1,
   "id": "eleven-iraqi",
   "metadata": {},
   "outputs": [],
   "source": [
    "import pandas as pd\n",
    "import numpy as np\n",
    "import matplotlib.pyplot as plt\n",
    "import seaborn as sns"
   ]
  },
  {
   "cell_type": "code",
   "execution_count": 2,
   "id": "reasonable-warren",
   "metadata": {},
   "outputs": [],
   "source": [
    "from sklearn.model_selection import cross_validate\n",
    "from sklearn.model_selection import train_test_split\n",
    "from sklearn.metrics import mean_squared_error\n",
    "from sklearn import datasets\n",
    "from sklearn.metrics import accuracy_score"
   ]
  },
  {
   "cell_type": "code",
   "execution_count": 3,
   "id": "spoken-underground",
   "metadata": {},
   "outputs": [],
   "source": [
    "from sklearn import tree\n",
    "from sklearn.tree import DecisionTreeRegressor\n",
    "from sklearn.tree import DecisionTreeClassifier\n",
    "from sklearn.tree import export_text"
   ]
  },
  {
   "cell_type": "code",
   "execution_count": 4,
   "id": "local-identity",
   "metadata": {},
   "outputs": [
    {
     "data": {
      "text/html": [
       "<div>\n",
       "<style scoped>\n",
       "    .dataframe tbody tr th:only-of-type {\n",
       "        vertical-align: middle;\n",
       "    }\n",
       "\n",
       "    .dataframe tbody tr th {\n",
       "        vertical-align: top;\n",
       "    }\n",
       "\n",
       "    .dataframe thead th {\n",
       "        text-align: right;\n",
       "    }\n",
       "</style>\n",
       "<table border=\"1\" class=\"dataframe\">\n",
       "  <thead>\n",
       "    <tr style=\"text-align: right;\">\n",
       "      <th></th>\n",
       "      <th>Unnamed: 0</th>\n",
       "      <th>A</th>\n",
       "      <th>B</th>\n",
       "      <th>C</th>\n",
       "      <th>D</th>\n",
       "      <th>E</th>\n",
       "      <th>F</th>\n",
       "      <th>G</th>\n",
       "      <th>H</th>\n",
       "      <th>I</th>\n",
       "      <th>J</th>\n",
       "      <th>Target</th>\n",
       "    </tr>\n",
       "  </thead>\n",
       "  <tbody>\n",
       "    <tr>\n",
       "      <th>0</th>\n",
       "      <td>0</td>\n",
       "      <td>0.150333</td>\n",
       "      <td>-1.468600</td>\n",
       "      <td>0.420842</td>\n",
       "      <td>-0.878333</td>\n",
       "      <td>-1.348358</td>\n",
       "      <td>0.686323</td>\n",
       "      <td>-0.663374</td>\n",
       "      <td>-2.301067</td>\n",
       "      <td>1.302455</td>\n",
       "      <td>0.320666</td>\n",
       "      <td>2</td>\n",
       "    </tr>\n",
       "    <tr>\n",
       "      <th>1</th>\n",
       "      <td>1</td>\n",
       "      <td>-1.632086</td>\n",
       "      <td>-0.705800</td>\n",
       "      <td>0.336495</td>\n",
       "      <td>0.024062</td>\n",
       "      <td>-0.493619</td>\n",
       "      <td>-1.534829</td>\n",
       "      <td>-0.024577</td>\n",
       "      <td>-0.296786</td>\n",
       "      <td>0.320047</td>\n",
       "      <td>0.506105</td>\n",
       "      <td>1</td>\n",
       "    </tr>\n",
       "    <tr>\n",
       "      <th>2</th>\n",
       "      <td>2</td>\n",
       "      <td>-1.285627</td>\n",
       "      <td>1.381077</td>\n",
       "      <td>-0.385668</td>\n",
       "      <td>1.446167</td>\n",
       "      <td>-0.348163</td>\n",
       "      <td>-2.255813</td>\n",
       "      <td>0.272703</td>\n",
       "      <td>-0.964729</td>\n",
       "      <td>-1.515589</td>\n",
       "      <td>0.454248</td>\n",
       "      <td>2</td>\n",
       "    </tr>\n",
       "    <tr>\n",
       "      <th>3</th>\n",
       "      <td>3</td>\n",
       "      <td>-0.012135</td>\n",
       "      <td>-0.729971</td>\n",
       "      <td>-1.132579</td>\n",
       "      <td>1.076787</td>\n",
       "      <td>1.235348</td>\n",
       "      <td>1.234472</td>\n",
       "      <td>-1.809369</td>\n",
       "      <td>0.735971</td>\n",
       "      <td>-1.349093</td>\n",
       "      <td>-0.061655</td>\n",
       "      <td>0</td>\n",
       "    </tr>\n",
       "    <tr>\n",
       "      <th>4</th>\n",
       "      <td>4</td>\n",
       "      <td>-1.303877</td>\n",
       "      <td>0.930213</td>\n",
       "      <td>0.801927</td>\n",
       "      <td>-1.750493</td>\n",
       "      <td>0.846840</td>\n",
       "      <td>-0.258996</td>\n",
       "      <td>-0.507816</td>\n",
       "      <td>0.560169</td>\n",
       "      <td>0.583438</td>\n",
       "      <td>-0.472208</td>\n",
       "      <td>0</td>\n",
       "    </tr>\n",
       "  </tbody>\n",
       "</table>\n",
       "</div>"
      ],
      "text/plain": [
       "   Unnamed: 0         A         B         C         D         E         F  \\\n",
       "0           0  0.150333 -1.468600  0.420842 -0.878333 -1.348358  0.686323   \n",
       "1           1 -1.632086 -0.705800  0.336495  0.024062 -0.493619 -1.534829   \n",
       "2           2 -1.285627  1.381077 -0.385668  1.446167 -0.348163 -2.255813   \n",
       "3           3 -0.012135 -0.729971 -1.132579  1.076787  1.235348  1.234472   \n",
       "4           4 -1.303877  0.930213  0.801927 -1.750493  0.846840 -0.258996   \n",
       "\n",
       "          G         H         I         J  Target  \n",
       "0 -0.663374 -2.301067  1.302455  0.320666       2  \n",
       "1 -0.024577 -0.296786  0.320047  0.506105       1  \n",
       "2  0.272703 -0.964729 -1.515589  0.454248       2  \n",
       "3 -1.809369  0.735971 -1.349093 -0.061655       0  \n",
       "4 -0.507816  0.560169  0.583438 -0.472208       0  "
      ]
     },
     "execution_count": 4,
     "metadata": {},
     "output_type": "execute_result"
    }
   ],
   "source": [
    "classify = pd.read_csv('classify_me.csv')\n",
    "classify.head()"
   ]
  },
  {
   "cell_type": "code",
   "execution_count": 8,
   "id": "grateful-alias",
   "metadata": {},
   "outputs": [
    {
     "data": {
      "text/plain": [
       "1    380\n",
       "0    333\n",
       "2    287\n",
       "Name: Target, dtype: int64"
      ]
     },
     "execution_count": 8,
     "metadata": {},
     "output_type": "execute_result"
    }
   ],
   "source": [
    "classify['Target'].value_counts()"
   ]
  },
  {
   "cell_type": "code",
   "execution_count": 9,
   "id": "distant-standard",
   "metadata": {},
   "outputs": [
    {
     "name": "stdout",
     "output_type": "stream",
     "text": [
      "<class 'pandas.core.frame.DataFrame'>\n",
      "RangeIndex: 1000 entries, 0 to 999\n",
      "Data columns (total 12 columns):\n",
      " #   Column      Non-Null Count  Dtype  \n",
      "---  ------      --------------  -----  \n",
      " 0   Unnamed: 0  1000 non-null   int64  \n",
      " 1   A           1000 non-null   float64\n",
      " 2   B           1000 non-null   float64\n",
      " 3   C           1000 non-null   float64\n",
      " 4   D           1000 non-null   float64\n",
      " 5   E           1000 non-null   float64\n",
      " 6   F           1000 non-null   float64\n",
      " 7   G           1000 non-null   float64\n",
      " 8   H           1000 non-null   float64\n",
      " 9   I           1000 non-null   float64\n",
      " 10  J           1000 non-null   float64\n",
      " 11  Target      1000 non-null   int64  \n",
      "dtypes: float64(10), int64(2)\n",
      "memory usage: 93.9 KB\n"
     ]
    }
   ],
   "source": [
    "classify.info()"
   ]
  },
  {
   "cell_type": "code",
   "execution_count": 11,
   "id": "raised-march",
   "metadata": {},
   "outputs": [
    {
     "data": {
      "text/plain": [
       "Unnamed: 0    0\n",
       "A             0\n",
       "B             0\n",
       "C             0\n",
       "D             0\n",
       "E             0\n",
       "F             0\n",
       "G             0\n",
       "H             0\n",
       "I             0\n",
       "J             0\n",
       "Target        0\n",
       "dtype: int64"
      ]
     },
     "execution_count": 11,
     "metadata": {},
     "output_type": "execute_result"
    }
   ],
   "source": [
    "classify.isna().sum()"
   ]
  },
  {
   "cell_type": "code",
   "execution_count": 12,
   "id": "beginning-oregon",
   "metadata": {},
   "outputs": [
    {
     "data": {
      "text/plain": [
       "Unnamed: 0    0\n",
       "A             0\n",
       "B             0\n",
       "C             0\n",
       "D             0\n",
       "E             0\n",
       "F             0\n",
       "G             0\n",
       "H             0\n",
       "I             0\n",
       "J             0\n",
       "Target        0\n",
       "dtype: int64"
      ]
     },
     "execution_count": 12,
     "metadata": {},
     "output_type": "execute_result"
    }
   ],
   "source": [
    "classify.isnull().sum()"
   ]
  },
  {
   "cell_type": "markdown",
   "id": "agricultural-burns",
   "metadata": {},
   "source": [
    "This dataset has 10 features (A to J), 3 classes(0,1,2), no missing values."
   ]
  },
  {
   "cell_type": "code",
   "execution_count": 14,
   "id": "false-nebraska",
   "metadata": {},
   "outputs": [],
   "source": [
    "X=classify.drop(['Unnamed: 0','Target'],axis=1)\n",
    "y=classify['Target']"
   ]
  },
  {
   "cell_type": "code",
   "execution_count": 16,
   "id": "reported-queue",
   "metadata": {},
   "outputs": [],
   "source": [
    "X_train, X_test, y_train, y_test = train_test_split(X,y,test_size=0.3, random_state=5)"
   ]
  },
  {
   "cell_type": "markdown",
   "id": "twenty-behavior",
   "metadata": {},
   "source": [
    "#### KNN:"
   ]
  },
  {
   "cell_type": "code",
   "execution_count": 21,
   "id": "adapted-ensemble",
   "metadata": {},
   "outputs": [],
   "source": [
    "from sklearn.neighbors import KNeighborsClassifier\n",
    "from sklearn.preprocessing import StandardScaler"
   ]
  },
  {
   "cell_type": "markdown",
   "id": "appropriate-talent",
   "metadata": {},
   "source": [
    "Since KNN is based on distance, so before build knn model, we need first to check the distrubution of variables.If large variance exists, they should be scaled before feed into model.<br>\n",
    "Here our variables are in a good distribution, all stds are around 1, and means are around 0. "
   ]
  },
  {
   "cell_type": "code",
   "execution_count": 22,
   "id": "aquatic-controversy",
   "metadata": {},
   "outputs": [
    {
     "data": {
      "text/html": [
       "<div>\n",
       "<style scoped>\n",
       "    .dataframe tbody tr th:only-of-type {\n",
       "        vertical-align: middle;\n",
       "    }\n",
       "\n",
       "    .dataframe tbody tr th {\n",
       "        vertical-align: top;\n",
       "    }\n",
       "\n",
       "    .dataframe thead th {\n",
       "        text-align: right;\n",
       "    }\n",
       "</style>\n",
       "<table border=\"1\" class=\"dataframe\">\n",
       "  <thead>\n",
       "    <tr style=\"text-align: right;\">\n",
       "      <th></th>\n",
       "      <th>A</th>\n",
       "      <th>B</th>\n",
       "      <th>C</th>\n",
       "      <th>D</th>\n",
       "      <th>E</th>\n",
       "      <th>F</th>\n",
       "      <th>G</th>\n",
       "      <th>H</th>\n",
       "      <th>I</th>\n",
       "      <th>J</th>\n",
       "    </tr>\n",
       "  </thead>\n",
       "  <tbody>\n",
       "    <tr>\n",
       "      <th>count</th>\n",
       "      <td>1000.000000</td>\n",
       "      <td>1000.000000</td>\n",
       "      <td>1000.000000</td>\n",
       "      <td>1000.000000</td>\n",
       "      <td>1000.000000</td>\n",
       "      <td>1000.000000</td>\n",
       "      <td>1000.000000</td>\n",
       "      <td>1000.000000</td>\n",
       "      <td>1000.000000</td>\n",
       "      <td>1000.000000</td>\n",
       "    </tr>\n",
       "    <tr>\n",
       "      <th>mean</th>\n",
       "      <td>0.063266</td>\n",
       "      <td>-0.054791</td>\n",
       "      <td>0.006328</td>\n",
       "      <td>0.017849</td>\n",
       "      <td>-0.014298</td>\n",
       "      <td>0.008647</td>\n",
       "      <td>-0.044524</td>\n",
       "      <td>0.022222</td>\n",
       "      <td>0.026690</td>\n",
       "      <td>0.019505</td>\n",
       "    </tr>\n",
       "    <tr>\n",
       "      <th>std</th>\n",
       "      <td>0.986794</td>\n",
       "      <td>1.025844</td>\n",
       "      <td>1.002614</td>\n",
       "      <td>1.004034</td>\n",
       "      <td>0.976537</td>\n",
       "      <td>0.992565</td>\n",
       "      <td>0.990367</td>\n",
       "      <td>1.018379</td>\n",
       "      <td>0.992252</td>\n",
       "      <td>1.003696</td>\n",
       "    </tr>\n",
       "    <tr>\n",
       "      <th>min</th>\n",
       "      <td>-3.108344</td>\n",
       "      <td>-3.886951</td>\n",
       "      <td>-3.327042</td>\n",
       "      <td>-3.352986</td>\n",
       "      <td>-3.063608</td>\n",
       "      <td>-3.041711</td>\n",
       "      <td>-2.911095</td>\n",
       "      <td>-3.080890</td>\n",
       "      <td>-3.377685</td>\n",
       "      <td>-3.448228</td>\n",
       "    </tr>\n",
       "    <tr>\n",
       "      <th>25%</th>\n",
       "      <td>-0.586783</td>\n",
       "      <td>-0.786290</td>\n",
       "      <td>-0.668572</td>\n",
       "      <td>-0.694203</td>\n",
       "      <td>-0.682192</td>\n",
       "      <td>-0.651344</td>\n",
       "      <td>-0.704221</td>\n",
       "      <td>-0.681347</td>\n",
       "      <td>-0.636699</td>\n",
       "      <td>-0.670257</td>\n",
       "    </tr>\n",
       "    <tr>\n",
       "      <th>50%</th>\n",
       "      <td>0.102531</td>\n",
       "      <td>-0.066470</td>\n",
       "      <td>0.055376</td>\n",
       "      <td>0.030282</td>\n",
       "      <td>0.020418</td>\n",
       "      <td>0.026342</td>\n",
       "      <td>-0.050620</td>\n",
       "      <td>0.018412</td>\n",
       "      <td>0.026011</td>\n",
       "      <td>0.014973</td>\n",
       "    </tr>\n",
       "    <tr>\n",
       "      <th>75%</th>\n",
       "      <td>0.734715</td>\n",
       "      <td>0.611712</td>\n",
       "      <td>0.707278</td>\n",
       "      <td>0.712739</td>\n",
       "      <td>0.639220</td>\n",
       "      <td>0.667833</td>\n",
       "      <td>0.576028</td>\n",
       "      <td>0.727414</td>\n",
       "      <td>0.748356</td>\n",
       "      <td>0.716156</td>\n",
       "    </tr>\n",
       "    <tr>\n",
       "      <th>max</th>\n",
       "      <td>2.925088</td>\n",
       "      <td>3.672869</td>\n",
       "      <td>3.412340</td>\n",
       "      <td>2.955662</td>\n",
       "      <td>3.021678</td>\n",
       "      <td>3.426620</td>\n",
       "      <td>2.807116</td>\n",
       "      <td>3.256437</td>\n",
       "      <td>3.213695</td>\n",
       "      <td>3.118702</td>\n",
       "    </tr>\n",
       "  </tbody>\n",
       "</table>\n",
       "</div>"
      ],
      "text/plain": [
       "                 A            B            C            D            E  \\\n",
       "count  1000.000000  1000.000000  1000.000000  1000.000000  1000.000000   \n",
       "mean      0.063266    -0.054791     0.006328     0.017849    -0.014298   \n",
       "std       0.986794     1.025844     1.002614     1.004034     0.976537   \n",
       "min      -3.108344    -3.886951    -3.327042    -3.352986    -3.063608   \n",
       "25%      -0.586783    -0.786290    -0.668572    -0.694203    -0.682192   \n",
       "50%       0.102531    -0.066470     0.055376     0.030282     0.020418   \n",
       "75%       0.734715     0.611712     0.707278     0.712739     0.639220   \n",
       "max       2.925088     3.672869     3.412340     2.955662     3.021678   \n",
       "\n",
       "                 F            G            H            I            J  \n",
       "count  1000.000000  1000.000000  1000.000000  1000.000000  1000.000000  \n",
       "mean      0.008647    -0.044524     0.022222     0.026690     0.019505  \n",
       "std       0.992565     0.990367     1.018379     0.992252     1.003696  \n",
       "min      -3.041711    -2.911095    -3.080890    -3.377685    -3.448228  \n",
       "25%      -0.651344    -0.704221    -0.681347    -0.636699    -0.670257  \n",
       "50%       0.026342    -0.050620     0.018412     0.026011     0.014973  \n",
       "75%       0.667833     0.576028     0.727414     0.748356     0.716156  \n",
       "max       3.426620     2.807116     3.256437     3.213695     3.118702  "
      ]
     },
     "execution_count": 22,
     "metadata": {},
     "output_type": "execute_result"
    }
   ],
   "source": [
    "X.describe()"
   ]
  },
  {
   "cell_type": "code",
   "execution_count": 23,
   "id": "local-legislature",
   "metadata": {},
   "outputs": [],
   "source": [
    "# scaler=StandardScaler()\n",
    "# X_train_scaled=scaler.fit_transform(X_train)\n",
    "# X_test_scaled=scaler.fit_transform(X_test)"
   ]
  },
  {
   "cell_type": "code",
   "execution_count": 159,
   "id": "modified-produce",
   "metadata": {},
   "outputs": [],
   "source": [
    "cvres=[]\n",
    "for i in range(1,20):\n",
    "    clf = KNeighborsClassifier(n_neighbors=i)\n",
    "    nn = cross_validate(clf, X_train, y_train, cv=5, scoring='accuracy')\n",
    "    cvres.append(nn['test_score'].mean())"
   ]
  },
  {
   "cell_type": "code",
   "execution_count": 32,
   "id": "inside-electron",
   "metadata": {},
   "outputs": [
    {
     "data": {
      "text/plain": [
       "Text(0, 0.5, 'Acc')"
      ]
     },
     "execution_count": 32,
     "metadata": {},
     "output_type": "execute_result"
    },
    {
     "data": {
      "image/png": "[encoded data removed]",
      "text/plain": [
       "<Figure size 432x288 with 1 Axes>"
      ]
     },
     "metadata": {
      "needs_background": "light"
     },
     "output_type": "display_data"
    }
   ],
   "source": [
    "plt.plot(list(range(1,20)),cvres[0:19])\n",
    "plt.xlabel('neighbors')\n",
    "plt.ylabel('Acc')"
   ]
  },
  {
   "cell_type": "code",
   "execution_count": 33,
   "id": "promising-perfume",
   "metadata": {},
   "outputs": [
    {
     "data": {
      "text/plain": [
       "2"
      ]
     },
     "execution_count": 33,
     "metadata": {},
     "output_type": "execute_result"
    }
   ],
   "source": [
    "np.argmax(cvres)+ 1"
   ]
  },
  {
   "cell_type": "code",
   "execution_count": 34,
   "id": "smoking-bridges",
   "metadata": {},
   "outputs": [],
   "source": [
    "knn = KNeighborsClassifier(n_neighbors=2).fit(X_train,y_train)"
   ]
  },
  {
   "cell_type": "code",
   "execution_count": 35,
   "id": "dying-screen",
   "metadata": {},
   "outputs": [
    {
     "data": {
      "text/plain": [
       "0.47"
      ]
     },
     "execution_count": 35,
     "metadata": {},
     "output_type": "execute_result"
    }
   ],
   "source": [
    "accuracy_score(knn.predict(X_test),y_test)"
   ]
  },
  {
   "cell_type": "markdown",
   "id": "operational-newton",
   "metadata": {},
   "source": [
    "The accurancy of KNN is only quiet low, only 47%."
   ]
  },
  {
   "cell_type": "markdown",
   "id": "sealed-distinction",
   "metadata": {},
   "source": [
    "#### Random Forest:"
   ]
  },
  {
   "cell_type": "code",
   "execution_count": 100,
   "id": "commercial-aberdeen",
   "metadata": {},
   "outputs": [],
   "source": [
    "from sklearn.ensemble import RandomForestClassifier"
   ]
  },
  {
   "cell_type": "code",
   "execution_count": 124,
   "id": "related-result",
   "metadata": {},
   "outputs": [],
   "source": [
    "cvres_rf=[]\n",
    "n_estimators = [i for i in range(100,1100,100)]\n",
    "for n in n_estimators:\n",
    "    rf = RandomForestClassifier(n_estimators=n, random_state=5)\n",
    "    cvrf = cross_validate(rf, X_train, y_train, cv=5, scoring='accuracy')\n",
    "    cvres_rf.append(cvrf['test_score'].mean())"
   ]
  },
  {
   "cell_type": "code",
   "execution_count": 125,
   "id": "fantastic-orientation",
   "metadata": {},
   "outputs": [
    {
     "data": {
      "text/plain": [
       "8"
      ]
     },
     "execution_count": 125,
     "metadata": {},
     "output_type": "execute_result"
    }
   ],
   "source": [
    "np.argmax(cvres_rf) + 1"
   ]
  },
  {
   "cell_type": "code",
   "execution_count": 126,
   "id": "generic-scott",
   "metadata": {},
   "outputs": [],
   "source": [
    "rf = RandomForestClassifier(n_estimators=800, max_features='sqrt', random_state = 5).fit(X_train,y_train)"
   ]
  },
  {
   "cell_type": "code",
   "execution_count": 127,
   "id": "fifty-confidence",
   "metadata": {},
   "outputs": [
    {
     "data": {
      "text/plain": [
       "0.65"
      ]
     },
     "execution_count": 127,
     "metadata": {},
     "output_type": "execute_result"
    }
   ],
   "source": [
    "accuracy_score(rf.predict(X_test),y_test)"
   ]
  },
  {
   "cell_type": "markdown",
   "id": "editorial-alpha",
   "metadata": {},
   "source": [
    "The accurancy of RF is 65%, when ```n_estimators``` = 900, ```max_depth``` = None."
   ]
  },
  {
   "cell_type": "markdown",
   "id": "faced-consensus",
   "metadata": {},
   "source": [
    "#### Bagging:"
   ]
  },
  {
   "cell_type": "code",
   "execution_count": 108,
   "id": "young-elimination",
   "metadata": {},
   "outputs": [],
   "source": [
    "from sklearn.ensemble import BaggingClassifier"
   ]
  },
  {
   "cell_type": "code",
   "execution_count": 157,
   "id": "august-range",
   "metadata": {},
   "outputs": [],
   "source": [
    "cvres_bg=[]\n",
    "n_estimators = [i for i in range(100,1100,100)]\n",
    "for n in n_estimators:\n",
    "    bg = BaggingClassifier(n_estimators=n, random_state=5)\n",
    "    cvbg = cross_validate(bg, X_train, y_train, cv=5, scoring='accuracy')\n",
    "    cvres_bg.append(cvbg['test_score'].mean())"
   ]
  },
  {
   "cell_type": "code",
   "execution_count": 160,
   "id": "comparative-franchise",
   "metadata": {},
   "outputs": [
    {
     "data": {
      "text/plain": [
       "3"
      ]
     },
     "execution_count": 160,
     "metadata": {},
     "output_type": "execute_result"
    }
   ],
   "source": [
    "np.argmax(cvres_bg) + 1"
   ]
  },
  {
   "cell_type": "code",
   "execution_count": 161,
   "id": "bearing-power",
   "metadata": {},
   "outputs": [],
   "source": [
    "bg = BaggingClassifier(base_estimator=DecisionTreeClassifier(),n_estimators=400,random_state=5).fit(X_train, y_train)"
   ]
  },
  {
   "cell_type": "code",
   "execution_count": 162,
   "id": "unique-strap",
   "metadata": {},
   "outputs": [
    {
     "data": {
      "text/plain": [
       "0.64"
      ]
     },
     "execution_count": 162,
     "metadata": {},
     "output_type": "execute_result"
    }
   ],
   "source": [
    "accuracy_score(bg.predict(X_test),y_test)"
   ]
  },
  {
   "cell_type": "markdown",
   "id": "consecutive-market",
   "metadata": {},
   "source": [
    "The accurancy of RF is 64%, when ```n_estimators``` = 400."
   ]
  },
  {
   "cell_type": "markdown",
   "id": "buried-closing",
   "metadata": {},
   "source": [
    "#### Boosting:"
   ]
  },
  {
   "cell_type": "code",
   "execution_count": 170,
   "id": "civic-healthcare",
   "metadata": {},
   "outputs": [],
   "source": [
    "from sklearn.ensemble import GradientBoostingClassifier\n",
    "from sklearn.model_selection import GridSearchCV"
   ]
  },
  {
   "cell_type": "code",
   "execution_count": 156,
   "id": "weighted-collect",
   "metadata": {},
   "outputs": [],
   "source": [
    "parameters = {'learning_rate':[0.1,0.01,0.001], \n",
    "              'n_estimators':[100,200,300,400,500,600,700],\n",
    "              'max_depth':[2,3,4,5,6,7]}"
   ]
  },
  {
   "cell_type": "code",
   "execution_count": 171,
   "id": "innovative-defeat",
   "metadata": {},
   "outputs": [
    {
     "data": {
      "text/plain": [
       "GridSearchCV(estimator=GradientBoostingClassifier(random_state=5),\n",
       "             param_grid={'learning_rate': [0.1, 0.01, 0.001],\n",
       "                         'max_depth': [2, 3, 4, 5, 6, 7],\n",
       "                         'n_estimators': [100, 200, 300, 400, 500, 600, 700]})"
      ]
     },
     "execution_count": 171,
     "metadata": {},
     "output_type": "execute_result"
    }
   ],
   "source": [
    "boost_regr = GridSearchCV(GradientBoostingClassifier(random_state=5), parameters)\n",
    "boost_regr.fit(X_train, y_train)"
   ]
  },
  {
   "cell_type": "code",
   "execution_count": 172,
   "id": "mental-attack",
   "metadata": {},
   "outputs": [],
   "source": [
    "boost_res_df = pd.DataFrame(boost_regr.cv_results_)"
   ]
  },
  {
   "cell_type": "code",
   "execution_count": 174,
   "id": "ethical-passage",
   "metadata": {},
   "outputs": [
    {
     "data": {
      "text/html": [
       "<div>\n",
       "<style scoped>\n",
       "    .dataframe tbody tr th:only-of-type {\n",
       "        vertical-align: middle;\n",
       "    }\n",
       "\n",
       "    .dataframe tbody tr th {\n",
       "        vertical-align: top;\n",
       "    }\n",
       "\n",
       "    .dataframe thead th {\n",
       "        text-align: right;\n",
       "    }\n",
       "</style>\n",
       "<table border=\"1\" class=\"dataframe\">\n",
       "  <thead>\n",
       "    <tr style=\"text-align: right;\">\n",
       "      <th></th>\n",
       "      <th>mean_fit_time</th>\n",
       "      <th>std_fit_time</th>\n",
       "      <th>mean_score_time</th>\n",
       "      <th>std_score_time</th>\n",
       "      <th>param_learning_rate</th>\n",
       "      <th>param_max_depth</th>\n",
       "      <th>param_n_estimators</th>\n",
       "      <th>params</th>\n",
       "      <th>split0_test_score</th>\n",
       "      <th>split1_test_score</th>\n",
       "      <th>split2_test_score</th>\n",
       "      <th>split3_test_score</th>\n",
       "      <th>split4_test_score</th>\n",
       "      <th>mean_test_score</th>\n",
       "      <th>std_test_score</th>\n",
       "      <th>rank_test_score</th>\n",
       "    </tr>\n",
       "  </thead>\n",
       "  <tbody>\n",
       "    <tr>\n",
       "      <th>4</th>\n",
       "      <td>1.56079</td>\n",
       "      <td>0.03522</td>\n",
       "      <td>0.002933</td>\n",
       "      <td>0.000067</td>\n",
       "      <td>0.1</td>\n",
       "      <td>2</td>\n",
       "      <td>500</td>\n",
       "      <td>{'learning_rate': 0.1, 'max_depth': 2, 'n_esti...</td>\n",
       "      <td>0.728571</td>\n",
       "      <td>0.735714</td>\n",
       "      <td>0.728571</td>\n",
       "      <td>0.721429</td>\n",
       "      <td>0.778571</td>\n",
       "      <td>0.738571</td>\n",
       "      <td>0.020504</td>\n",
       "      <td>1</td>\n",
       "    </tr>\n",
       "  </tbody>\n",
       "</table>\n",
       "</div>"
      ],
      "text/plain": [
       "   mean_fit_time  std_fit_time  mean_score_time  std_score_time  \\\n",
       "4        1.56079       0.03522         0.002933        0.000067   \n",
       "\n",
       "  param_learning_rate param_max_depth param_n_estimators  \\\n",
       "4                 0.1               2                500   \n",
       "\n",
       "                                              params  split0_test_score  \\\n",
       "4  {'learning_rate': 0.1, 'max_depth': 2, 'n_esti...           0.728571   \n",
       "\n",
       "   split1_test_score  split2_test_score  split3_test_score  split4_test_score  \\\n",
       "4           0.735714           0.728571           0.721429           0.778571   \n",
       "\n",
       "   mean_test_score  std_test_score  rank_test_score  \n",
       "4         0.738571        0.020504                1  "
      ]
     },
     "execution_count": 174,
     "metadata": {},
     "output_type": "execute_result"
    }
   ],
   "source": [
    "boost_res_df[boost_res_df['rank_test_score'] == 1]"
   ]
  },
  {
   "cell_type": "markdown",
   "id": "lovely-scout",
   "metadata": {},
   "source": [
    "learning rate = 0.1; max depth = 2; n_estimators = 500"
   ]
  },
  {
   "cell_type": "code",
   "execution_count": 177,
   "id": "amber-calculator",
   "metadata": {},
   "outputs": [],
   "source": [
    "best_breg = GradientBoostingClassifier(random_state=5,learning_rate=0.1,n_estimators=500,max_depth=2).fit(X_train,y_train)"
   ]
  },
  {
   "cell_type": "code",
   "execution_count": 178,
   "id": "extended-latter",
   "metadata": {},
   "outputs": [
    {
     "data": {
      "text/plain": [
       "0.73"
      ]
     },
     "execution_count": 178,
     "metadata": {},
     "output_type": "execute_result"
    }
   ],
   "source": [
    "best_breg.score(X_test, y_test)"
   ]
  },
  {
   "cell_type": "markdown",
   "id": "beautiful-settlement",
   "metadata": {},
   "source": [
    "Boosting score is better, 73% accuracy."
   ]
  },
  {
   "cell_type": "code",
   "execution_count": 179,
   "id": "prime-harassment",
   "metadata": {},
   "outputs": [
    {
     "data": {
      "text/plain": [
       "array([0.08177854, 0.10943942, 0.09569795, 0.10293385, 0.0825274 ,\n",
       "       0.08456866, 0.12078882, 0.13488218, 0.09155215, 0.09583102])"
      ]
     },
     "execution_count": 179,
     "metadata": {},
     "output_type": "execute_result"
    }
   ],
   "source": [
    "best_breg.feature_importances_"
   ]
  },
  {
   "cell_type": "code",
   "execution_count": 180,
   "id": "bronze-excellence",
   "metadata": {},
   "outputs": [
    {
     "data": {
      "text/plain": [
       "(-1.0, 10.0)"
      ]
     },
     "execution_count": 180,
     "metadata": {},
     "output_type": "execute_result"
    },
    {
     "data": {
      "image/png": "[encoded data removed]",
      "text/plain": [
       "<Figure size 432x288 with 1 Axes>"
      ]
     },
     "metadata": {
      "needs_background": "light"
     },
     "output_type": "display_data"
    }
   ],
   "source": [
    "nfeat=X.shape[1]\n",
    "plt.barh(np.arange(nfeat),best_breg.feature_importances_,align='center')\n",
    "plt.yticks(np.arange(nfeat),list(X.columns))\n",
    "plt.ylim(-1,nfeat)"
   ]
  },
  {
   "cell_type": "markdown",
   "id": "respective-quick",
   "metadata": {},
   "source": [
    "The best regression classifer is the boosting for this dataset, at 73% accurancy score. <br> \n",
    "The feature importance does not make much different here."
   ]
  }
 ],
 "metadata": {
  "kernelspec": {
   "display_name": "Python 3",
   "language": "python",
   "name": "python3"
  },
  "language_info": {
   "codemirror_mode": {
    "name": "ipython",
    "version": 3
   },
   "file_extension": ".py",
   "mimetype": "text/x-python",
   "name": "python",
   "nbconvert_exporter": "python",
   "pygments_lexer": "ipython3",
   "version": "3.8.2"
  }
 },
 "nbformat": 4,
 "nbformat_minor": 5
}
