{
 "cells": [
  {
   "cell_type": "markdown",
   "id": "private-nickel",
   "metadata": {},
   "source": [
    "## Homework 4"
   ]
  },
  {
   "cell_type": "markdown",
   "id": "appointed-thomas",
   "metadata": {},
   "source": [
    "#### Qingwen Wang"
   ]
  },
  {
   "cell_type": "markdown",
   "id": "integrated-mathematics",
   "metadata": {},
   "source": [
    "Use the classify_imb.csv  downloadfile in the Files tab. Build a classifier to predict the Target column using the other 20 features. \n",
    "\n",
    "When you split your data into training and test sets, set random_state = 5. Try a random forest (use random_state = 5 and cross validate the number of trees), boosting (use n_estimators = 300, learning rate =0.1, and max_depth =3), and a logistic regression classifier. Which is best? How can you tell? Comment on the precision, recall, and accuracy of your model."
   ]
  },
  {
   "cell_type": "code",
   "execution_count": 6,
   "id": "incredible-kenya",
   "metadata": {},
   "outputs": [],
   "source": [
    "import pandas as pd\n",
    "import numpy as np\n",
    "import matplotlib.pyplot as plt"
   ]
  },
  {
   "cell_type": "code",
   "execution_count": 4,
   "id": "political-brook",
   "metadata": {},
   "outputs": [],
   "source": [
    "from sklearn.model_selection import cross_validate\n",
    "from sklearn.model_selection import train_test_split\n",
    "from sklearn.metrics import mean_squared_error\n",
    "from sklearn import datasets\n",
    "from sklearn.metrics import accuracy_score\n",
    "from sklearn import tree\n",
    "from sklearn.tree import DecisionTreeClassifier\n",
    "from sklearn.tree import DecisionTreeClassifier\n",
    "from sklearn.ensemble import RandomForestClassifier\n",
    "from sklearn.ensemble import GradientBoostingClassifier\n",
    "from sklearn.ensemble import BaggingClassifier\n",
    "from sklearn.linear_model import LogisticRegression"
   ]
  },
  {
   "cell_type": "code",
   "execution_count": 3,
   "id": "neither-island",
   "metadata": {},
   "outputs": [
    {
     "data": {
      "text/html": [
       "<div>\n",
       "<style scoped>\n",
       "    .dataframe tbody tr th:only-of-type {\n",
       "        vertical-align: middle;\n",
       "    }\n",
       "\n",
       "    .dataframe tbody tr th {\n",
       "        vertical-align: top;\n",
       "    }\n",
       "\n",
       "    .dataframe thead th {\n",
       "        text-align: right;\n",
       "    }\n",
       "</style>\n",
       "<table border=\"1\" class=\"dataframe\">\n",
       "  <thead>\n",
       "    <tr style=\"text-align: right;\">\n",
       "      <th></th>\n",
       "      <th>A</th>\n",
       "      <th>B</th>\n",
       "      <th>C</th>\n",
       "      <th>D</th>\n",
       "      <th>E</th>\n",
       "      <th>F</th>\n",
       "      <th>G</th>\n",
       "      <th>H</th>\n",
       "      <th>I</th>\n",
       "      <th>J</th>\n",
       "      <th>...</th>\n",
       "      <th>L</th>\n",
       "      <th>M</th>\n",
       "      <th>N</th>\n",
       "      <th>O</th>\n",
       "      <th>P</th>\n",
       "      <th>Q</th>\n",
       "      <th>R</th>\n",
       "      <th>S</th>\n",
       "      <th>T</th>\n",
       "      <th>Target</th>\n",
       "    </tr>\n",
       "  </thead>\n",
       "  <tbody>\n",
       "    <tr>\n",
       "      <th>0</th>\n",
       "      <td>2.868690</td>\n",
       "      <td>-0.106937</td>\n",
       "      <td>1.065444</td>\n",
       "      <td>0.749917</td>\n",
       "      <td>2.138981</td>\n",
       "      <td>-0.267874</td>\n",
       "      <td>-4.287288</td>\n",
       "      <td>-0.003229</td>\n",
       "      <td>0.102618</td>\n",
       "      <td>-1.594098</td>\n",
       "      <td>...</td>\n",
       "      <td>-0.031744</td>\n",
       "      <td>-1.836612</td>\n",
       "      <td>2.508588</td>\n",
       "      <td>2.123112</td>\n",
       "      <td>-1.599241</td>\n",
       "      <td>0.944821</td>\n",
       "      <td>0.330276</td>\n",
       "      <td>1.017247</td>\n",
       "      <td>-0.440207</td>\n",
       "      <td>0</td>\n",
       "    </tr>\n",
       "    <tr>\n",
       "      <th>1</th>\n",
       "      <td>-1.463642</td>\n",
       "      <td>-1.291157</td>\n",
       "      <td>-1.464761</td>\n",
       "      <td>1.287344</td>\n",
       "      <td>-1.994637</td>\n",
       "      <td>0.831797</td>\n",
       "      <td>0.130555</td>\n",
       "      <td>-0.555585</td>\n",
       "      <td>-1.746450</td>\n",
       "      <td>0.320191</td>\n",
       "      <td>...</td>\n",
       "      <td>-0.948864</td>\n",
       "      <td>0.497305</td>\n",
       "      <td>2.651037</td>\n",
       "      <td>1.722998</td>\n",
       "      <td>0.290210</td>\n",
       "      <td>-1.278545</td>\n",
       "      <td>0.488835</td>\n",
       "      <td>1.577497</td>\n",
       "      <td>-1.097335</td>\n",
       "      <td>1</td>\n",
       "    </tr>\n",
       "    <tr>\n",
       "      <th>2</th>\n",
       "      <td>-2.208983</td>\n",
       "      <td>1.112905</td>\n",
       "      <td>1.484842</td>\n",
       "      <td>1.455104</td>\n",
       "      <td>-0.380712</td>\n",
       "      <td>-0.465900</td>\n",
       "      <td>3.464477</td>\n",
       "      <td>1.561576</td>\n",
       "      <td>-0.972615</td>\n",
       "      <td>2.646365</td>\n",
       "      <td>...</td>\n",
       "      <td>0.571619</td>\n",
       "      <td>-0.573899</td>\n",
       "      <td>-4.393691</td>\n",
       "      <td>-3.936344</td>\n",
       "      <td>5.499447</td>\n",
       "      <td>0.874778</td>\n",
       "      <td>-0.858103</td>\n",
       "      <td>-1.040617</td>\n",
       "      <td>-2.759917</td>\n",
       "      <td>0</td>\n",
       "    </tr>\n",
       "    <tr>\n",
       "      <th>3</th>\n",
       "      <td>1.757493</td>\n",
       "      <td>-0.194035</td>\n",
       "      <td>-1.502209</td>\n",
       "      <td>-1.227620</td>\n",
       "      <td>-1.629453</td>\n",
       "      <td>2.192913</td>\n",
       "      <td>-0.774430</td>\n",
       "      <td>-1.284792</td>\n",
       "      <td>0.433154</td>\n",
       "      <td>2.233775</td>\n",
       "      <td>...</td>\n",
       "      <td>0.089484</td>\n",
       "      <td>-2.290146</td>\n",
       "      <td>-2.274138</td>\n",
       "      <td>-3.454273</td>\n",
       "      <td>-0.904307</td>\n",
       "      <td>0.459121</td>\n",
       "      <td>-0.043155</td>\n",
       "      <td>-2.129675</td>\n",
       "      <td>-0.559314</td>\n",
       "      <td>0</td>\n",
       "    </tr>\n",
       "    <tr>\n",
       "      <th>4</th>\n",
       "      <td>-0.621503</td>\n",
       "      <td>-1.709654</td>\n",
       "      <td>-2.155096</td>\n",
       "      <td>-1.982270</td>\n",
       "      <td>-1.205284</td>\n",
       "      <td>-0.285097</td>\n",
       "      <td>-1.279000</td>\n",
       "      <td>-3.831940</td>\n",
       "      <td>-1.205034</td>\n",
       "      <td>-4.213100</td>\n",
       "      <td>...</td>\n",
       "      <td>0.808936</td>\n",
       "      <td>0.647993</td>\n",
       "      <td>4.629954</td>\n",
       "      <td>3.860843</td>\n",
       "      <td>-1.288296</td>\n",
       "      <td>0.992935</td>\n",
       "      <td>1.069965</td>\n",
       "      <td>3.676966</td>\n",
       "      <td>1.005724</td>\n",
       "      <td>0</td>\n",
       "    </tr>\n",
       "  </tbody>\n",
       "</table>\n",
       "<p>5 rows × 21 columns</p>\n",
       "</div>"
      ],
      "text/plain": [
       "          A         B         C         D         E         F         G  \\\n",
       "0  2.868690 -0.106937  1.065444  0.749917  2.138981 -0.267874 -4.287288   \n",
       "1 -1.463642 -1.291157 -1.464761  1.287344 -1.994637  0.831797  0.130555   \n",
       "2 -2.208983  1.112905  1.484842  1.455104 -0.380712 -0.465900  3.464477   \n",
       "3  1.757493 -0.194035 -1.502209 -1.227620 -1.629453  2.192913 -0.774430   \n",
       "4 -0.621503 -1.709654 -2.155096 -1.982270 -1.205284 -0.285097 -1.279000   \n",
       "\n",
       "          H         I         J  ...         L         M         N         O  \\\n",
       "0 -0.003229  0.102618 -1.594098  ... -0.031744 -1.836612  2.508588  2.123112   \n",
       "1 -0.555585 -1.746450  0.320191  ... -0.948864  0.497305  2.651037  1.722998   \n",
       "2  1.561576 -0.972615  2.646365  ...  0.571619 -0.573899 -4.393691 -3.936344   \n",
       "3 -1.284792  0.433154  2.233775  ...  0.089484 -2.290146 -2.274138 -3.454273   \n",
       "4 -3.831940 -1.205034 -4.213100  ...  0.808936  0.647993  4.629954  3.860843   \n",
       "\n",
       "          P         Q         R         S         T  Target  \n",
       "0 -1.599241  0.944821  0.330276  1.017247 -0.440207       0  \n",
       "1  0.290210 -1.278545  0.488835  1.577497 -1.097335       1  \n",
       "2  5.499447  0.874778 -0.858103 -1.040617 -2.759917       0  \n",
       "3 -0.904307  0.459121 -0.043155 -2.129675 -0.559314       0  \n",
       "4 -1.288296  0.992935  1.069965  3.676966  1.005724       0  \n",
       "\n",
       "[5 rows x 21 columns]"
      ]
     },
     "execution_count": 3,
     "metadata": {},
     "output_type": "execute_result"
    }
   ],
   "source": [
    "classify=pd.read_csv('classify_imb.csv')\n",
    "classify.head()"
   ]
  },
  {
   "cell_type": "code",
   "execution_count": 5,
   "id": "reasonable-machinery",
   "metadata": {},
   "outputs": [
    {
     "data": {
      "text/plain": [
       "<AxesSubplot:>"
      ]
     },
     "execution_count": 5,
     "metadata": {},
     "output_type": "execute_result"
    },
    {
     "data": {
      "image/png": "[encoded data removed]",
      "text/plain": [
       "<Figure size 432x288 with 1 Axes>"
      ]
     },
     "metadata": {
      "needs_background": "light"
     },
     "output_type": "display_data"
    }
   ],
   "source": [
    "classify.Target.hist()"
   ]
  },
  {
   "cell_type": "code",
   "execution_count": 48,
   "id": "driving-smell",
   "metadata": {},
   "outputs": [
    {
     "data": {
      "text/plain": [
       "0.679"
      ]
     },
     "execution_count": 48,
     "metadata": {},
     "output_type": "execute_result"
    }
   ],
   "source": [
    "1 - sum(classify.Target)/len(classify.Target)"
   ]
  },
  {
   "cell_type": "code",
   "execution_count": 6,
   "id": "appointed-stomach",
   "metadata": {},
   "outputs": [],
   "source": [
    "X=classify.drop('Target',axis=1)\n",
    "y=classify['Target']"
   ]
  },
  {
   "cell_type": "code",
   "execution_count": 7,
   "id": "opened-surrey",
   "metadata": {},
   "outputs": [
    {
     "name": "stdout",
     "output_type": "stream",
     "text": [
      "0.3157142857142857 : 0.3333333333333333\n"
     ]
    }
   ],
   "source": [
    "X_train, X_test, y_train, y_test = train_test_split(X,y,test_size=0.3, random_state=5)\n",
    "print(sum(y_train)/len(y_train),\":\",sum(y_test)/len(y_test))"
   ]
  },
  {
   "cell_type": "markdown",
   "id": "acoustic-extra",
   "metadata": {},
   "source": [
    "Since this is an imblanced dataset, we can fisrt create more virtual obsverations to balance the dataset."
   ]
  },
  {
   "cell_type": "code",
   "execution_count": 1,
   "id": "local-average",
   "metadata": {},
   "outputs": [],
   "source": [
    "import imblearn\n",
    "from imblearn.over_sampling import SMOTE"
   ]
  },
  {
   "cell_type": "code",
   "execution_count": 34,
   "id": "violent-triangle",
   "metadata": {},
   "outputs": [],
   "source": [
    "oversample = SMOTE()\n",
    "Xs, ys = oversample.fit_resample(X_train, y_train)"
   ]
  },
  {
   "cell_type": "code",
   "execution_count": 35,
   "id": "dated-strength",
   "metadata": {},
   "outputs": [
    {
     "data": {
      "text/plain": [
       "0.5"
      ]
     },
     "execution_count": 35,
     "metadata": {},
     "output_type": "execute_result"
    }
   ],
   "source": [
    "np.sum(ys)/len(ys)"
   ]
  },
  {
   "cell_type": "markdown",
   "id": "responsible-patient",
   "metadata": {},
   "source": [
    "#### Random Forest"
   ]
  },
  {
   "cell_type": "code",
   "execution_count": 3,
   "id": "julian-cosmetic",
   "metadata": {},
   "outputs": [],
   "source": [
    "from tqdm import tqdm"
   ]
  },
  {
   "cell_type": "code",
   "execution_count": 5,
   "id": "anonymous-instrumentation",
   "metadata": {},
   "outputs": [
    {
     "name": "stderr",
     "output_type": "stream",
     "text": [
      "  0%|          | 0/7 [00:00<?, ?it/s]\n"
     ]
    },
    {
     "ename": "NameError",
     "evalue": "name 'RandomForestClassifier' is not defined",
     "output_type": "error",
     "traceback": [
      "\u001b[0;31m---------------------------------------------------------------------------\u001b[0m",
      "\u001b[0;31mNameError\u001b[0m                                 Traceback (most recent call last)",
      "\u001b[0;32m<ipython-input-5-9231b7f8a755>\u001b[0m in \u001b[0;36m<module>\u001b[0;34m\u001b[0m\n\u001b[1;32m      2\u001b[0m \u001b[0mcvres\u001b[0m\u001b[0;34m=\u001b[0m\u001b[0;34m[\u001b[0m\u001b[0;34m]\u001b[0m\u001b[0;34m\u001b[0m\u001b[0;34m\u001b[0m\u001b[0m\n\u001b[1;32m      3\u001b[0m \u001b[0;32mfor\u001b[0m \u001b[0mnum\u001b[0m \u001b[0;32min\u001b[0m \u001b[0mtqdm\u001b[0m\u001b[0;34m(\u001b[0m\u001b[0mnum_trees\u001b[0m\u001b[0;34m)\u001b[0m\u001b[0;34m:\u001b[0m\u001b[0;34m\u001b[0m\u001b[0;34m\u001b[0m\u001b[0m\n\u001b[0;32m----> 4\u001b[0;31m     \u001b[0mrf_cv_clf\u001b[0m \u001b[0;34m=\u001b[0m \u001b[0mRandomForestClassifier\u001b[0m\u001b[0;34m(\u001b[0m\u001b[0mn_estimators\u001b[0m \u001b[0;34m=\u001b[0m \u001b[0mnum\u001b[0m\u001b[0;34m,\u001b[0m \u001b[0mmax_features\u001b[0m\u001b[0;34m=\u001b[0m\u001b[0;34m'sqrt'\u001b[0m\u001b[0;34m,\u001b[0m\u001b[0mrandom_state\u001b[0m\u001b[0;34m=\u001b[0m\u001b[0;36m5\u001b[0m\u001b[0;34m)\u001b[0m\u001b[0;34m\u001b[0m\u001b[0;34m\u001b[0m\u001b[0m\n\u001b[0m\u001b[1;32m      5\u001b[0m     \u001b[0mcvclf\u001b[0m \u001b[0;34m=\u001b[0m \u001b[0mcross_validate\u001b[0m\u001b[0;34m(\u001b[0m\u001b[0mrf_cv_clf\u001b[0m\u001b[0;34m,\u001b[0m \u001b[0mXs\u001b[0m\u001b[0;34m,\u001b[0m \u001b[0mys\u001b[0m\u001b[0;34m,\u001b[0m \u001b[0mcv\u001b[0m\u001b[0;34m=\u001b[0m\u001b[0;36m5\u001b[0m\u001b[0;34m,\u001b[0m \u001b[0mscoring\u001b[0m\u001b[0;34m=\u001b[0m\u001b[0;34m'f1_weighted'\u001b[0m\u001b[0;34m)\u001b[0m\u001b[0;34m\u001b[0m\u001b[0;34m\u001b[0m\u001b[0m\n\u001b[1;32m      6\u001b[0m     \u001b[0mcvres\u001b[0m\u001b[0;34m.\u001b[0m\u001b[0mappend\u001b[0m\u001b[0;34m(\u001b[0m\u001b[0mcvclf\u001b[0m\u001b[0;34m[\u001b[0m\u001b[0;34m'test_score'\u001b[0m\u001b[0;34m]\u001b[0m\u001b[0;34m.\u001b[0m\u001b[0mmean\u001b[0m\u001b[0;34m(\u001b[0m\u001b[0;34m)\u001b[0m\u001b[0;34m)\u001b[0m\u001b[0;34m\u001b[0m\u001b[0;34m\u001b[0m\u001b[0m\n",
      "\u001b[0;31mNameError\u001b[0m: name 'RandomForestClassifier' is not defined"
     ]
    }
   ],
   "source": [
    "num_trees=[600,700,800,900,1000,1100,1200]\n",
    "cvres=[]\n",
    "for num in tqdm(num_trees):\n",
    "    rf_cv_clf = RandomForestClassifier(n_estimators = num, max_features='sqrt',random_state=5)\n",
    "    cvclf = cross_validate(rf_cv_clf, Xs, ys, cv=5, scoring='f1')\n",
    "    cvres.append(cvclf['test_score'].mean())"
   ]
  },
  {
   "cell_type": "code",
   "execution_count": 39,
   "id": "typical-rainbow",
   "metadata": {},
   "outputs": [
    {
     "data": {
      "text/plain": [
       "[<matplotlib.lines.Line2D at 0x1210935e0>]"
      ]
     },
     "execution_count": 39,
     "metadata": {},
     "output_type": "execute_result"
    },
    {
     "data": {
      "image/png": "[encoded data removed]",
      "text/plain": [
       "<Figure size 432x288 with 1 Axes>"
      ]
     },
     "metadata": {
      "needs_background": "light"
     },
     "output_type": "display_data"
    }
   ],
   "source": [
    "plt.plot(num_trees,cvres)"
   ]
  },
  {
   "cell_type": "code",
   "execution_count": 40,
   "id": "loving-precipitation",
   "metadata": {},
   "outputs": [],
   "source": [
    "rfc=RandomForestClassifier(n_estimators = 800, max_features='sqrt',random_state=0).fit(Xs,ys)"
   ]
  },
  {
   "cell_type": "code",
   "execution_count": 1,
   "id": "correct-database",
   "metadata": {},
   "outputs": [],
   "source": [
    "from sklearn.metrics import f1_score\n",
    "from sklearn.metrics import accuracy_score\n",
    "from sklearn.metrics import classification_report"
   ]
  },
  {
   "cell_type": "code",
   "execution_count": 42,
   "id": "insured-haiti",
   "metadata": {},
   "outputs": [
    {
     "data": {
      "text/plain": [
       "0.6217616580310881"
      ]
     },
     "execution_count": 42,
     "metadata": {},
     "output_type": "execute_result"
    }
   ],
   "source": [
    "f1_score(y_test,rfc.predict(X_test))"
   ]
  },
  {
   "cell_type": "code",
   "execution_count": 43,
   "id": "accurate-christopher",
   "metadata": {},
   "outputs": [
    {
     "name": "stdout",
     "output_type": "stream",
     "text": [
      "              precision    recall  f1-score   support\n",
      "\n",
      "           0       0.81      0.83      0.82       200\n",
      "           1       0.65      0.60      0.62       100\n",
      "\n",
      "    accuracy                           0.76       300\n",
      "   macro avg       0.73      0.72      0.72       300\n",
      "weighted avg       0.75      0.76      0.75       300\n",
      "\n"
     ]
    }
   ],
   "source": [
    "print(classification_report(y_test,rfc.predict(X_test)))"
   ]
  },
  {
   "cell_type": "markdown",
   "id": "generous-guinea",
   "metadata": {},
   "source": [
    "Random forest:<br>\n",
    "F1 score is 0.62, precision = 0.65, recall = 0.60, accurancy = 0.76<br>\n",
    "It's like 65% of what we predict is Class 1 is actually belongs to Class 1;<br>\n",
    "and we find out 60% of Class 1;<br>\n",
    "accurany is better than a navie guess, but still not a good performance."
   ]
  },
  {
   "cell_type": "markdown",
   "id": "lesbian-ideal",
   "metadata": {},
   "source": [
    "#### Boosting"
   ]
  },
  {
   "cell_type": "code",
   "execution_count": 44,
   "id": "precise-promise",
   "metadata": {},
   "outputs": [],
   "source": [
    "bs_clf = GradientBoostingClassifier(n_estimators=300,max_depth=3,learning_rate=0.1,random_state=5).fit(Xs,ys)"
   ]
  },
  {
   "cell_type": "code",
   "execution_count": 45,
   "id": "careful-question",
   "metadata": {},
   "outputs": [
    {
     "data": {
      "text/plain": [
       "0.64"
      ]
     },
     "execution_count": 45,
     "metadata": {},
     "output_type": "execute_result"
    }
   ],
   "source": [
    "f1_score(y_test,bs_clf.predict(X_test))"
   ]
  },
  {
   "cell_type": "code",
   "execution_count": 46,
   "id": "binding-hello",
   "metadata": {},
   "outputs": [
    {
     "name": "stdout",
     "output_type": "stream",
     "text": [
      "              precision    recall  f1-score   support\n",
      "\n",
      "           0       0.82      0.82      0.82       200\n",
      "           1       0.64      0.64      0.64       100\n",
      "\n",
      "    accuracy                           0.76       300\n",
      "   macro avg       0.73      0.73      0.73       300\n",
      "weighted avg       0.76      0.76      0.76       300\n",
      "\n"
     ]
    }
   ],
   "source": [
    "print(classification_report(y_test,bs_clf.predict(X_test)))"
   ]
  },
  {
   "cell_type": "markdown",
   "id": "oriental-binding",
   "metadata": {},
   "source": [
    "Boosting:<br>\n",
    "F1 score is 0.64, precision = 0.64, recall = 0.64, accurancy = 0.76.<br>\n",
    "It's like 64% of what we predict is Class 1 is actually belongs to Class 1;<br>\n",
    "and we find out 64% of Class 1;<br>\n",
    "accurany is better than a navie guess, but still not a good performance."
   ]
  },
  {
   "cell_type": "markdown",
   "id": "suspected-chapel",
   "metadata": {},
   "source": [
    "#### Logistic regression"
   ]
  },
  {
   "cell_type": "code",
   "execution_count": 49,
   "id": "extreme-budget",
   "metadata": {},
   "outputs": [],
   "source": [
    "from sklearn.linear_model import LogisticRegression\n",
    "from sklearn.model_selection import cross_validate"
   ]
  },
  {
   "cell_type": "code",
   "execution_count": 101,
   "id": "prepared-planning",
   "metadata": {},
   "outputs": [],
   "source": [
    "lr = LogisticRegression().fit(X_train, y_train)"
   ]
  },
  {
   "cell_type": "code",
   "execution_count": 102,
   "id": "removable-glenn",
   "metadata": {},
   "outputs": [
    {
     "data": {
      "text/plain": [
       "0.6833333333333333"
      ]
     },
     "execution_count": 102,
     "metadata": {},
     "output_type": "execute_result"
    }
   ],
   "source": [
    "lr.score(X_test,y_test)"
   ]
  },
  {
   "cell_type": "code",
   "execution_count": 103,
   "id": "recorded-bottle",
   "metadata": {},
   "outputs": [
    {
     "data": {
      "text/plain": [
       "0.18803418803418803"
      ]
     },
     "execution_count": 103,
     "metadata": {},
     "output_type": "execute_result"
    }
   ],
   "source": [
    "f1_score(y_test,lr.predict(X_test))"
   ]
  },
  {
   "cell_type": "code",
   "execution_count": 104,
   "id": "seven-luxembourg",
   "metadata": {},
   "outputs": [
    {
     "name": "stdout",
     "output_type": "stream",
     "text": [
      "              precision    recall  f1-score   support\n",
      "\n",
      "           0       0.69      0.97      0.80       200\n",
      "           1       0.65      0.11      0.19       100\n",
      "\n",
      "    accuracy                           0.68       300\n",
      "   macro avg       0.67      0.54      0.50       300\n",
      "weighted avg       0.67      0.68      0.60       300\n",
      "\n"
     ]
    }
   ],
   "source": [
    "print(classification_report(y_test,lr.predict(X_test)))"
   ]
  },
  {
   "cell_type": "markdown",
   "id": "ruled-milton",
   "metadata": {},
   "source": [
    "logistic regression:<br>\n",
    "accurancy  = 0.68, just a navie guess can also have this result.So it is bad.<br>\n",
    "preciscion 0.65, just ok; but recall is only 0.11, very low.<br>"
   ]
  },
  {
   "cell_type": "markdown",
   "id": "three-river",
   "metadata": {},
   "source": [
    "change the thresold to see if can get a better prediction:"
   ]
  },
  {
   "cell_type": "code",
   "execution_count": 147,
   "id": "fantastic-bristol",
   "metadata": {},
   "outputs": [],
   "source": [
    "new_lr_pred = lr.predict_proba(X_test)[:,1] > 0.3"
   ]
  },
  {
   "cell_type": "code",
   "execution_count": 148,
   "id": "choice-bottom",
   "metadata": {},
   "outputs": [
    {
     "name": "stdout",
     "output_type": "stream",
     "text": [
      "              precision    recall  f1-score   support\n",
      "\n",
      "           0       0.74      0.52      0.61       200\n",
      "           1       0.40      0.63      0.49       100\n",
      "\n",
      "    accuracy                           0.56       300\n",
      "   macro avg       0.57      0.57      0.55       300\n",
      "weighted avg       0.62      0.56      0.57       300\n",
      "\n"
     ]
    }
   ],
   "source": [
    "print(classification_report(y_test,new_lr_pred))"
   ]
  },
  {
   "cell_type": "markdown",
   "id": "known-census",
   "metadata": {},
   "source": [
    "logistic regression with threshold = 0.3: <br>\n",
    "accurancy  = 0.56, it's not good<br>\n",
    "However the preciscion and recall score goes up.<br>"
   ]
  },
  {
   "cell_type": "markdown",
   "id": "developing-casting",
   "metadata": {},
   "source": [
    "So, the best one is Boosting <br>\n",
    "F1 score is 0.64, precision = 0.64, recall = 0.64, accurancy = 0.76.<br>\n",
    "But, to choose the most suitable model, usually it is based on the content, wheather we need a higher precision or recall; in this case, since we have no knowledge of content, so i just choose the model which has the best f1 score and accurancy.<br>"
   ]
  },
  {
   "cell_type": "code",
   "execution_count": null,
   "id": "warming-florence",
   "metadata": {},
   "outputs": [],
   "source": []
  }
 ],
 "metadata": {
  "kernelspec": {
   "display_name": "Python 3",
   "language": "python",
   "name": "python3"
  },
  "language_info": {
   "codemirror_mode": {
    "name": "ipython",
    "version": 3
   },
   "file_extension": ".py",
   "mimetype": "text/x-python",
   "name": "python",
   "nbconvert_exporter": "python",
   "pygments_lexer": "ipython3",
   "version": "3.8.2"
  }
 },
 "nbformat": 4,
 "nbformat_minor": 5
}
