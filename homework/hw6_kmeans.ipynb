{
 "cells": [
  {
   "cell_type": "markdown",
   "id": "rental-shade",
   "metadata": {},
   "source": [
    "## Homework 6: K means"
   ]
  },
  {
   "cell_type": "markdown",
   "id": "fuzzy-object",
   "metadata": {},
   "source": [
    "#### Qingwen Wang\n"
   ]
  },
  {
   "cell_type": "markdown",
   "id": "known-queensland",
   "metadata": {},
   "source": [
    "Use the Country-data.csv file again (from HW5), but this time use K-means clustering to cluster the countries by the given features. Is there a value of K that seems best for this data set? \n",
    "\n",
    "Now perform K-means with 3 clusters. Give an interpretation of the cluster centroids. Do the members of these clusters align reasonably with your interpretation?\n",
    "\n",
    "Finally, perform agglomerative clustering with 3 clusters. Compare the result with K-means (also with 3 clusters). How are they different?"
   ]
  },
  {
   "cell_type": "code",
   "execution_count": 1,
   "id": "loaded-quilt",
   "metadata": {},
   "outputs": [],
   "source": [
    "import pandas as pd\n",
    "import numpy as np\n",
    "import matplotlib.pyplot as plt"
   ]
  },
  {
   "cell_type": "code",
   "execution_count": 2,
   "id": "waiting-drive",
   "metadata": {},
   "outputs": [],
   "source": [
    "from sklearn.model_selection import cross_validate\n",
    "from sklearn.model_selection import train_test_split\n",
    "from sklearn.metrics import mean_squared_error\n",
    "from sklearn import datasets\n",
    "from sklearn.metrics import accuracy_score"
   ]
  },
  {
   "cell_type": "code",
   "execution_count": 4,
   "id": "short-certification",
   "metadata": {},
   "outputs": [
    {
     "data": {
      "text/html": [
       "<div>\n",
       "<style scoped>\n",
       "    .dataframe tbody tr th:only-of-type {\n",
       "        vertical-align: middle;\n",
       "    }\n",
       "\n",
       "    .dataframe tbody tr th {\n",
       "        vertical-align: top;\n",
       "    }\n",
       "\n",
       "    .dataframe thead th {\n",
       "        text-align: right;\n",
       "    }\n",
       "</style>\n",
       "<table border=\"1\" class=\"dataframe\">\n",
       "  <thead>\n",
       "    <tr style=\"text-align: right;\">\n",
       "      <th></th>\n",
       "      <th>country</th>\n",
       "      <th>child_mort</th>\n",
       "      <th>exports</th>\n",
       "      <th>health</th>\n",
       "      <th>imports</th>\n",
       "      <th>income</th>\n",
       "      <th>inflation</th>\n",
       "      <th>life_expec</th>\n",
       "      <th>total_fer</th>\n",
       "      <th>gdpp</th>\n",
       "    </tr>\n",
       "  </thead>\n",
       "  <tbody>\n",
       "    <tr>\n",
       "      <th>0</th>\n",
       "      <td>Afghanistan</td>\n",
       "      <td>90.2</td>\n",
       "      <td>10.0</td>\n",
       "      <td>7.58</td>\n",
       "      <td>44.9</td>\n",
       "      <td>1610</td>\n",
       "      <td>9.44</td>\n",
       "      <td>56.2</td>\n",
       "      <td>5.82</td>\n",
       "      <td>553</td>\n",
       "    </tr>\n",
       "    <tr>\n",
       "      <th>1</th>\n",
       "      <td>Albania</td>\n",
       "      <td>16.6</td>\n",
       "      <td>28.0</td>\n",
       "      <td>6.55</td>\n",
       "      <td>48.6</td>\n",
       "      <td>9930</td>\n",
       "      <td>4.49</td>\n",
       "      <td>76.3</td>\n",
       "      <td>1.65</td>\n",
       "      <td>4090</td>\n",
       "    </tr>\n",
       "    <tr>\n",
       "      <th>2</th>\n",
       "      <td>Algeria</td>\n",
       "      <td>27.3</td>\n",
       "      <td>38.4</td>\n",
       "      <td>4.17</td>\n",
       "      <td>31.4</td>\n",
       "      <td>12900</td>\n",
       "      <td>16.10</td>\n",
       "      <td>76.5</td>\n",
       "      <td>2.89</td>\n",
       "      <td>4460</td>\n",
       "    </tr>\n",
       "    <tr>\n",
       "      <th>3</th>\n",
       "      <td>Angola</td>\n",
       "      <td>119.0</td>\n",
       "      <td>62.3</td>\n",
       "      <td>2.85</td>\n",
       "      <td>42.9</td>\n",
       "      <td>5900</td>\n",
       "      <td>22.40</td>\n",
       "      <td>60.1</td>\n",
       "      <td>6.16</td>\n",
       "      <td>3530</td>\n",
       "    </tr>\n",
       "    <tr>\n",
       "      <th>4</th>\n",
       "      <td>Antigua and Barbuda</td>\n",
       "      <td>10.3</td>\n",
       "      <td>45.5</td>\n",
       "      <td>6.03</td>\n",
       "      <td>58.9</td>\n",
       "      <td>19100</td>\n",
       "      <td>1.44</td>\n",
       "      <td>76.8</td>\n",
       "      <td>2.13</td>\n",
       "      <td>12200</td>\n",
       "    </tr>\n",
       "  </tbody>\n",
       "</table>\n",
       "</div>"
      ],
      "text/plain": [
       "               country  child_mort  exports  health  imports  income  \\\n",
       "0          Afghanistan        90.2     10.0    7.58     44.9    1610   \n",
       "1              Albania        16.6     28.0    6.55     48.6    9930   \n",
       "2              Algeria        27.3     38.4    4.17     31.4   12900   \n",
       "3               Angola       119.0     62.3    2.85     42.9    5900   \n",
       "4  Antigua and Barbuda        10.3     45.5    6.03     58.9   19100   \n",
       "\n",
       "   inflation  life_expec  total_fer   gdpp  \n",
       "0       9.44        56.2       5.82    553  \n",
       "1       4.49        76.3       1.65   4090  \n",
       "2      16.10        76.5       2.89   4460  \n",
       "3      22.40        60.1       6.16   3530  \n",
       "4       1.44        76.8       2.13  12200  "
      ]
     },
     "execution_count": 4,
     "metadata": {},
     "output_type": "execute_result"
    }
   ],
   "source": [
    "ctry = pd.read_csv('Country-data.csv')\n",
    "ctry.head()"
   ]
  },
  {
   "cell_type": "code",
   "execution_count": 5,
   "id": "distant-livestock",
   "metadata": {},
   "outputs": [],
   "source": [
    "Xctry=ctry.drop('country',axis=1)\n",
    "yctry=ctry['country']"
   ]
  },
  {
   "cell_type": "code",
   "execution_count": 12,
   "id": "neither-advertiser",
   "metadata": {},
   "outputs": [],
   "source": [
    "from sklearn.cluster import KMeans\n",
    "from sklearn.preprocessing import StandardScaler"
   ]
  },
  {
   "cell_type": "code",
   "execution_count": 10,
   "id": "brazilian-williams",
   "metadata": {},
   "outputs": [
    {
     "data": {
      "text/plain": [
       "child_mort       38.270060\n",
       "exports          41.108976\n",
       "health            6.815689\n",
       "imports          46.890215\n",
       "income        17144.688623\n",
       "inflation         7.781832\n",
       "life_expec       70.555689\n",
       "total_fer         2.947964\n",
       "gdpp          12964.155689\n",
       "dtype: float64"
      ]
     },
     "execution_count": 10,
     "metadata": {},
     "output_type": "execute_result"
    }
   ],
   "source": [
    "Xctry.mean()"
   ]
  },
  {
   "cell_type": "code",
   "execution_count": 13,
   "id": "outer-hunger",
   "metadata": {},
   "outputs": [],
   "source": [
    "X_scaled = StandardScaler().fit_transform(Xctry)"
   ]
  },
  {
   "cell_type": "code",
   "execution_count": 7,
   "id": "functioning-implementation",
   "metadata": {},
   "outputs": [],
   "source": [
    "def km_mse(inputs,k):\n",
    "    mse=[]\n",
    "    for i in range(1,k):\n",
    "        errors=[]\n",
    "        kmeans = KMeans(n_clusters=i, n_init=50,random_state=5).fit(inputs)\n",
    "        for pt,lab in zip(inputs,kmeans.labels_):\n",
    "            errors.append(np.linalg.norm(pt-kmeans.cluster_centers_[lab])**2)\n",
    "        mse.append(np.mean(errors))\n",
    "    return mse"
   ]
  },
  {
   "cell_type": "code",
   "execution_count": 18,
   "id": "exceptional-logan",
   "metadata": {},
   "outputs": [
    {
     "data": {
      "text/plain": [
       "[<matplotlib.lines.Line2D at 0x123b8e850>]"
      ]
     },
     "execution_count": 18,
     "metadata": {},
     "output_type": "execute_result"
    },
    {
     "data": {
      "image/png": "[encoded data removed]",
      "text/plain": [
       "<Figure size 432x288 with 1 Axes>"
      ]
     },
     "metadata": {
      "needs_background": "light"
     },
     "output_type": "display_data"
    }
   ],
   "source": [
    "ctry_out=km_mse(X_scaled,20)\n",
    "plt.plot(list(range(1,20)),ctry_out)"
   ]
  },
  {
   "cell_type": "markdown",
   "id": "biblical-street",
   "metadata": {},
   "source": [
    "No clear answer here. MSE is keep going small as K grows. And we did see a very significant turning point here. <BR>\n",
    "Just perform K-means with 3 clusters:"
   ]
  },
  {
   "cell_type": "code",
   "execution_count": 24,
   "id": "fatal-hydrogen",
   "metadata": {},
   "outputs": [],
   "source": [
    "ctry_kmeans = KMeans(n_clusters=3,n_init=20,random_state=0).fit(X_scaled)"
   ]
  },
  {
   "cell_type": "code",
   "execution_count": 25,
   "id": "through-probability",
   "metadata": {},
   "outputs": [
    {
     "name": "stdout",
     "output_type": "stream",
     "text": [
      "1 : 47\n",
      "2 : 84\n",
      "3 : 36\n"
     ]
    }
   ],
   "source": [
    "for i in range(3):\n",
    "    print(i+1,\":\",(ctry_kmeans.labels_==i).sum())"
   ]
  },
  {
   "cell_type": "markdown",
   "id": "behind-blackjack",
   "metadata": {},
   "source": [
    "Since the numbers looks balanced, we think it ok to divide into three group."
   ]
  },
  {
   "cell_type": "code",
   "execution_count": 27,
   "id": "bound-sierra",
   "metadata": {},
   "outputs": [
    {
     "name": "stdout",
     "output_type": "stream",
     "text": [
      "child_mort : 1.36\n",
      "exports : -0.438\n",
      "health : -0.156\n",
      "imports : -0.189\n",
      "income : -0.687\n",
      "inflation : 0.402\n",
      "life_expec : -1.282\n",
      "total_fer : 1.365\n",
      "gdpp : -0.604\n"
     ]
    }
   ],
   "source": [
    "for col,val in zip(Xctry.columns,ctry_kmeans.cluster_centers_[0]):\n",
    "    print(col,\":\",np.round(val,3))"
   ]
  },
  {
   "cell_type": "code",
   "execution_count": 28,
   "id": "desirable-drove",
   "metadata": {},
   "outputs": [
    {
     "name": "stdout",
     "output_type": "stream",
     "text": [
      "child_mort : -0.406\n",
      "exports : -0.032\n",
      "health : -0.224\n",
      "imports : 0.024\n",
      "income : -0.252\n",
      "inflation : -0.017\n",
      "life_expec : 0.255\n",
      "total_fer : -0.424\n",
      "gdpp : -0.354\n"
     ]
    }
   ],
   "source": [
    "for col,val in zip(Xctry.columns,ctry_kmeans.cluster_centers_[1]):\n",
    "    print(col,\":\",np.round(val,3))"
   ]
  },
  {
   "cell_type": "code",
   "execution_count": 29,
   "id": "presidential-price",
   "metadata": {},
   "outputs": [
    {
     "name": "stdout",
     "output_type": "stream",
     "text": [
      "child_mort : -0.827\n",
      "exports : 0.645\n",
      "health : 0.727\n",
      "imports : 0.191\n",
      "income : 1.484\n",
      "inflation : -0.485\n",
      "life_expec : 1.08\n",
      "total_fer : -0.792\n",
      "gdpp : 1.616\n"
     ]
    }
   ],
   "source": [
    "for col,val in zip(Xctry.columns,ctry_kmeans.cluster_centers_[2]):\n",
    "    print(col,\":\",np.round(val,3))"
   ]
  },
  {
   "cell_type": "markdown",
   "id": "novel-tucson",
   "metadata": {},
   "source": [
    "Basically, countries with better economic status have a better health performance, like higher life expentence, lower mortality rate. <br>\n",
    "So, centroid 1 can be describing developing countries; centroid 3 can be developed countreies; and centroid 2 is the status between 1 and 3.<br>"
   ]
  },
  {
   "cell_type": "code",
   "execution_count": 47,
   "id": "polyphonic-wound",
   "metadata": {},
   "outputs": [
    {
     "data": {
      "text/plain": [
       "129         Senegal\n",
       "132    Sierra Leone\n",
       "137    South Africa\n",
       "142           Sudan\n",
       "147        Tanzania\n",
       "149     Timor-Leste\n",
       "150            Togo\n",
       "155          Uganda\n",
       "165           Yemen\n",
       "166          Zambia\n",
       "Name: country, dtype: object"
      ]
     },
     "execution_count": 47,
     "metadata": {},
     "output_type": "execute_result"
    }
   ],
   "source": [
    "yctry[(ctry_kmeans.labels_==0)].tail(10)"
   ]
  },
  {
   "cell_type": "code",
   "execution_count": 46,
   "id": "under-james",
   "metadata": {},
   "outputs": [
    {
     "data": {
      "text/plain": [
       "151           Tonga\n",
       "152         Tunisia\n",
       "153          Turkey\n",
       "154    Turkmenistan\n",
       "156         Ukraine\n",
       "160         Uruguay\n",
       "161      Uzbekistan\n",
       "162         Vanuatu\n",
       "163       Venezuela\n",
       "164         Vietnam\n",
       "Name: country, dtype: object"
      ]
     },
     "execution_count": 46,
     "metadata": {},
     "output_type": "execute_result"
    }
   ],
   "source": [
    "yctry[(ctry_kmeans.labels_==1)].tail(10)"
   ]
  },
  {
   "cell_type": "code",
   "execution_count": 45,
   "id": "irish-vegetation",
   "metadata": {},
   "outputs": [
    {
     "data": {
      "text/plain": [
       "133               Singapore\n",
       "134         Slovak Republic\n",
       "135                Slovenia\n",
       "138             South Korea\n",
       "139                   Spain\n",
       "144                  Sweden\n",
       "145             Switzerland\n",
       "157    United Arab Emirates\n",
       "158          United Kingdom\n",
       "159           United States\n",
       "Name: country, dtype: object"
      ]
     },
     "execution_count": 45,
     "metadata": {},
     "output_type": "execute_result"
    }
   ],
   "source": [
    "yctry[(ctry_kmeans.labels_==2)].tail(10)"
   ]
  },
  {
   "cell_type": "markdown",
   "id": "interracial-relay",
   "metadata": {},
   "source": [
    "from the country in each group, it is generally align with my interpretation.<br>\n",
    "for example, United States in group 3; Vietnam in group 2; and South Africa in group 1."
   ]
  },
  {
   "cell_type": "code",
   "execution_count": 48,
   "id": "serial-morrison",
   "metadata": {},
   "outputs": [],
   "source": [
    "from sklearn.cluster import AgglomerativeClustering"
   ]
  },
  {
   "cell_type": "code",
   "execution_count": 55,
   "id": "integrated-feedback",
   "metadata": {},
   "outputs": [],
   "source": [
    "hclust = AgglomerativeClustering(3).fit(X_scaled)"
   ]
  },
  {
   "cell_type": "code",
   "execution_count": 72,
   "id": "senior-actor",
   "metadata": {},
   "outputs": [
    {
     "name": "stdout",
     "output_type": "stream",
     "text": [
      "34 106 27\n"
     ]
    }
   ],
   "source": [
    "print ((hclust.labels_ == 0).sum(), (hclust.labels_ == 1).sum(), (hclust.labels_ == 2).sum())"
   ]
  },
  {
   "cell_type": "code",
   "execution_count": 74,
   "id": "dense-undergraduate",
   "metadata": {},
   "outputs": [
    {
     "name": "stdout",
     "output_type": "stream",
     "text": [
      "47 84 36\n"
     ]
    }
   ],
   "source": [
    "print( (ctry_kmeans.labels_==0).sum(), (ctry_kmeans.labels_==1).sum(), (ctry_kmeans.labels_==2).sum())"
   ]
  },
  {
   "cell_type": "markdown",
   "id": "hybrid-caution",
   "metadata": {},
   "source": [
    "First, K means can divides the countries into more even groups than the AgglomerativeClustering."
   ]
  },
  {
   "cell_type": "code",
   "execution_count": 78,
   "id": "circular-iceland",
   "metadata": {},
   "outputs": [
    {
     "data": {
      "text/plain": [
       "127                             Samoa\n",
       "128                      Saudi Arabia\n",
       "130                            Serbia\n",
       "131                        Seychelles\n",
       "136                   Solomon Islands\n",
       "140                         Sri Lanka\n",
       "141    St. Vincent and the Grenadines\n",
       "143                          Suriname\n",
       "146                        Tajikistan\n",
       "148                          Thailand\n",
       "151                             Tonga\n",
       "152                           Tunisia\n",
       "153                            Turkey\n",
       "154                      Turkmenistan\n",
       "156                           Ukraine\n",
       "160                           Uruguay\n",
       "161                        Uzbekistan\n",
       "162                           Vanuatu\n",
       "163                         Venezuela\n",
       "164                           Vietnam\n",
       "Name: country, dtype: object"
      ]
     },
     "execution_count": 78,
     "metadata": {},
     "output_type": "execute_result"
    }
   ],
   "source": [
    "yctry[(ctry_kmeans.labels_==1)].tail(20)"
   ]
  },
  {
   "cell_type": "code",
   "execution_count": 77,
   "id": "homeless-worthy",
   "metadata": {},
   "outputs": [
    {
     "data": {
      "text/plain": [
       "137                      South Africa\n",
       "138                       South Korea\n",
       "140                         Sri Lanka\n",
       "141    St. Vincent and the Grenadines\n",
       "142                             Sudan\n",
       "143                          Suriname\n",
       "146                        Tajikistan\n",
       "148                          Thailand\n",
       "149                       Timor-Leste\n",
       "151                             Tonga\n",
       "152                           Tunisia\n",
       "153                            Turkey\n",
       "154                      Turkmenistan\n",
       "156                           Ukraine\n",
       "160                           Uruguay\n",
       "161                        Uzbekistan\n",
       "162                           Vanuatu\n",
       "163                         Venezuela\n",
       "164                           Vietnam\n",
       "165                             Yemen\n",
       "Name: country, dtype: object"
      ]
     },
     "execution_count": 77,
     "metadata": {},
     "output_type": "execute_result"
    }
   ],
   "source": [
    "yctry[(hclust.labels_==1)].tail(20)"
   ]
  },
  {
   "cell_type": "markdown",
   "id": "continuous-graham",
   "metadata": {},
   "source": [
    "Second, AgglomerativeClustering is grabbing more countries from group 1 and group 3 of Kmeans to group 2.<br>\n",
    "But, generally they are both align with our interpretation about centroid meaning."
   ]
  },
  {
   "cell_type": "code",
   "execution_count": null,
   "id": "annual-aberdeen",
   "metadata": {},
   "outputs": [],
   "source": []
  }
 ],
 "metadata": {
  "kernelspec": {
   "display_name": "Python 3",
   "language": "python",
   "name": "python3"
  },
  "language_info": {
   "codemirror_mode": {
    "name": "ipython",
    "version": 3
   },
   "file_extension": ".py",
   "mimetype": "text/x-python",
   "name": "python",
   "nbconvert_exporter": "python",
   "pygments_lexer": "ipython3",
   "version": "3.8.2"
  }
 },
 "nbformat": 4,
 "nbformat_minor": 5
}
